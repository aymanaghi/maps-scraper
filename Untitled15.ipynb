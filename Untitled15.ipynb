{
  "nbformat": 4,
  "nbformat_minor": 0,
  "metadata": {
    "colab": {
      "provenance": []
    },
    "kernelspec": {
      "name": "python3",
      "display_name": "Python 3"
    },
    "language_info": {
      "name": "python"
    }
  },
  "cells": [
    {
      "cell_type": "code",
      "source": [
        "# Install libraries\n",
        "!pip install gspread google-colab pandas google-auth oauth2client\n",
        "\n",
        "# Import necessary libraries\n",
        "import gspread\n",
        "from google.colab import auth\n",
        "import requests\n",
        "import time\n",
        "import json # for API response handling\n",
        "import pandas as pd\n",
        "import google.auth # Import google.auth\n",
        "\n",
        "# --- Authenticate User ---\n",
        "# This is the most crucial step for permissions.\n",
        "# It will open a pop-up window requiring you to log in\n",
        "# and grant access to Google Drive and Google Sheets.\n",
        "print(\"Authenticating Google Colab...\")\n",
        "auth.authenticate_user()\n",
        "credentials, project = google.auth.default() # Use google.auth.default() to get credentials\n",
        "gc = gspread.authorize(credentials) # Pass the obtained credentials to gspread.authorize\n",
        "print(\"Authentication successful!\")"
      ],
      "metadata": {
        "colab": {
          "base_uri": "https://localhost:8080/"
        },
        "id": "BpoSe3A8I7SA",
        "outputId": "2be1ec02-c151-403c-a5c9-40b00408d06d"
      },
      "execution_count": 1,
      "outputs": [
        {
          "output_type": "stream",
          "name": "stdout",
          "text": [
            "Requirement already satisfied: gspread in /usr/local/lib/python3.12/dist-packages (6.2.1)\n",
            "Requirement already satisfied: google-colab in /usr/local/lib/python3.12/dist-packages (1.0.0)\n",
            "Requirement already satisfied: pandas in /usr/local/lib/python3.12/dist-packages (2.2.2)\n",
            "Requirement already satisfied: google-auth in /usr/local/lib/python3.12/dist-packages (2.38.0)\n",
            "Requirement already satisfied: oauth2client in /usr/local/lib/python3.12/dist-packages (4.1.3)\n",
            "Requirement already satisfied: google-auth-oauthlib>=0.4.1 in /usr/local/lib/python3.12/dist-packages (from gspread) (1.2.2)\n",
            "Requirement already satisfied: ipykernel==6.17.1 in /usr/local/lib/python3.12/dist-packages (from google-colab) (6.17.1)\n",
            "Requirement already satisfied: ipyparallel==8.8.0 in /usr/local/lib/python3.12/dist-packages (from google-colab) (8.8.0)\n",
            "Requirement already satisfied: ipython==7.34.0 in /usr/local/lib/python3.12/dist-packages (from google-colab) (7.34.0)\n",
            "Requirement already satisfied: jupyter-server==2.14.0 in /usr/local/lib/python3.12/dist-packages (from google-colab) (2.14.0)\n",
            "Requirement already satisfied: portpicker==1.5.2 in /usr/local/lib/python3.12/dist-packages (from google-colab) (1.5.2)\n",
            "Requirement already satisfied: requests==2.32.4 in /usr/local/lib/python3.12/dist-packages (from google-colab) (2.32.4)\n",
            "Requirement already satisfied: tornado==6.4.2 in /usr/local/lib/python3.12/dist-packages (from google-colab) (6.4.2)\n",
            "Requirement already satisfied: numpy>=1.26.0 in /usr/local/lib/python3.12/dist-packages (from pandas) (2.0.2)\n",
            "Requirement already satisfied: python-dateutil>=2.8.2 in /usr/local/lib/python3.12/dist-packages (from pandas) (2.9.0.post0)\n",
            "Requirement already satisfied: pytz>=2020.1 in /usr/local/lib/python3.12/dist-packages (from pandas) (2025.2)\n",
            "Requirement already satisfied: tzdata>=2022.7 in /usr/local/lib/python3.12/dist-packages (from pandas) (2025.2)\n",
            "Requirement already satisfied: cachetools<6.0,>=2.0.0 in /usr/local/lib/python3.12/dist-packages (from google-auth) (5.5.2)\n",
            "Requirement already satisfied: pyasn1-modules>=0.2.1 in /usr/local/lib/python3.12/dist-packages (from google-auth) (0.4.2)\n",
            "Requirement already satisfied: rsa<5,>=3.1.4 in /usr/local/lib/python3.12/dist-packages (from google-auth) (4.9.1)\n",
            "Requirement already satisfied: debugpy>=1.0 in /usr/local/lib/python3.12/dist-packages (from ipykernel==6.17.1->google-colab) (1.8.15)\n",
            "Requirement already satisfied: jupyter-client>=6.1.12 in /usr/local/lib/python3.12/dist-packages (from ipykernel==6.17.1->google-colab) (7.4.9)\n",
            "Requirement already satisfied: matplotlib-inline>=0.1 in /usr/local/lib/python3.12/dist-packages (from ipykernel==6.17.1->google-colab) (0.1.7)\n",
            "Requirement already satisfied: nest-asyncio in /usr/local/lib/python3.12/dist-packages (from ipykernel==6.17.1->google-colab) (1.6.0)\n",
            "Requirement already satisfied: packaging in /usr/local/lib/python3.12/dist-packages (from ipykernel==6.17.1->google-colab) (25.0)\n",
            "Requirement already satisfied: psutil in /usr/local/lib/python3.12/dist-packages (from ipykernel==6.17.1->google-colab) (5.9.5)\n",
            "Requirement already satisfied: pyzmq>=17 in /usr/local/lib/python3.12/dist-packages (from ipykernel==6.17.1->google-colab) (26.2.1)\n",
            "Requirement already satisfied: traitlets>=5.1.0 in /usr/local/lib/python3.12/dist-packages (from ipykernel==6.17.1->google-colab) (5.7.1)\n",
            "Requirement already satisfied: decorator in /usr/local/lib/python3.12/dist-packages (from ipyparallel==8.8.0->google-colab) (4.4.2)\n",
            "Requirement already satisfied: entrypoints in /usr/local/lib/python3.12/dist-packages (from ipyparallel==8.8.0->google-colab) (0.4)\n",
            "Requirement already satisfied: tqdm in /usr/local/lib/python3.12/dist-packages (from ipyparallel==8.8.0->google-colab) (4.67.1)\n",
            "Requirement already satisfied: setuptools>=18.5 in /usr/local/lib/python3.12/dist-packages (from ipython==7.34.0->google-colab) (75.2.0)\n",
            "Requirement already satisfied: jedi>=0.16 in /usr/local/lib/python3.12/dist-packages (from ipython==7.34.0->google-colab) (0.19.2)\n",
            "Requirement already satisfied: pickleshare in /usr/local/lib/python3.12/dist-packages (from ipython==7.34.0->google-colab) (0.7.5)\n",
            "Requirement already satisfied: prompt-toolkit!=3.0.0,!=3.0.1,<3.1.0,>=2.0.0 in /usr/local/lib/python3.12/dist-packages (from ipython==7.34.0->google-colab) (3.0.52)\n",
            "Requirement already satisfied: pygments in /usr/local/lib/python3.12/dist-packages (from ipython==7.34.0->google-colab) (2.19.2)\n",
            "Requirement already satisfied: backcall in /usr/local/lib/python3.12/dist-packages (from ipython==7.34.0->google-colab) (0.2.0)\n",
            "Requirement already satisfied: pexpect>4.3 in /usr/local/lib/python3.12/dist-packages (from ipython==7.34.0->google-colab) (4.9.0)\n",
            "Requirement already satisfied: anyio>=3.1.0 in /usr/local/lib/python3.12/dist-packages (from jupyter-server==2.14.0->google-colab) (4.11.0)\n",
            "Requirement already satisfied: argon2-cffi>=21.1 in /usr/local/lib/python3.12/dist-packages (from jupyter-server==2.14.0->google-colab) (25.1.0)\n",
            "Requirement already satisfied: jinja2>=3.0.3 in /usr/local/lib/python3.12/dist-packages (from jupyter-server==2.14.0->google-colab) (3.1.6)\n",
            "Requirement already satisfied: jupyter-core!=5.0.*,>=4.12 in /usr/local/lib/python3.12/dist-packages (from jupyter-server==2.14.0->google-colab) (5.8.1)\n",
            "Requirement already satisfied: jupyter-events>=0.9.0 in /usr/local/lib/python3.12/dist-packages (from jupyter-server==2.14.0->google-colab) (0.12.0)\n",
            "Requirement already satisfied: jupyter-server-terminals>=0.4.4 in /usr/local/lib/python3.12/dist-packages (from jupyter-server==2.14.0->google-colab) (0.5.3)\n",
            "Requirement already satisfied: nbconvert>=6.4.4 in /usr/local/lib/python3.12/dist-packages (from jupyter-server==2.14.0->google-colab) (7.16.6)\n",
            "Requirement already satisfied: nbformat>=5.3.0 in /usr/local/lib/python3.12/dist-packages (from jupyter-server==2.14.0->google-colab) (5.10.4)\n",
            "Requirement already satisfied: overrides>=5.0 in /usr/local/lib/python3.12/dist-packages (from jupyter-server==2.14.0->google-colab) (7.7.0)\n",
            "Requirement already satisfied: prometheus-client>=0.9 in /usr/local/lib/python3.12/dist-packages (from jupyter-server==2.14.0->google-colab) (0.23.1)\n",
            "Requirement already satisfied: send2trash>=1.8.2 in /usr/local/lib/python3.12/dist-packages (from jupyter-server==2.14.0->google-colab) (1.8.3)\n",
            "Requirement already satisfied: terminado>=0.8.3 in /usr/local/lib/python3.12/dist-packages (from jupyter-server==2.14.0->google-colab) (0.18.1)\n",
            "Requirement already satisfied: websocket-client>=1.7 in /usr/local/lib/python3.12/dist-packages (from jupyter-server==2.14.0->google-colab) (1.8.0)\n",
            "Requirement already satisfied: charset_normalizer<4,>=2 in /usr/local/lib/python3.12/dist-packages (from requests==2.32.4->google-colab) (3.4.3)\n",
            "Requirement already satisfied: idna<4,>=2.5 in /usr/local/lib/python3.12/dist-packages (from requests==2.32.4->google-colab) (3.10)\n",
            "Requirement already satisfied: urllib3<3,>=1.21.1 in /usr/local/lib/python3.12/dist-packages (from requests==2.32.4->google-colab) (2.5.0)\n",
            "Requirement already satisfied: certifi>=2017.4.17 in /usr/local/lib/python3.12/dist-packages (from requests==2.32.4->google-colab) (2025.8.3)\n",
            "Requirement already satisfied: httplib2>=0.9.1 in /usr/local/lib/python3.12/dist-packages (from oauth2client) (0.31.0)\n",
            "Requirement already satisfied: pyasn1>=0.1.7 in /usr/local/lib/python3.12/dist-packages (from oauth2client) (0.6.1)\n",
            "Requirement already satisfied: six>=1.6.1 in /usr/local/lib/python3.12/dist-packages (from oauth2client) (1.17.0)\n",
            "Requirement already satisfied: requests-oauthlib>=0.7.0 in /usr/local/lib/python3.12/dist-packages (from google-auth-oauthlib>=0.4.1->gspread) (2.0.0)\n",
            "Requirement already satisfied: pyparsing<4,>=3.0.4 in /usr/local/lib/python3.12/dist-packages (from httplib2>=0.9.1->oauth2client) (3.2.5)\n",
            "Requirement already satisfied: sniffio>=1.1 in /usr/local/lib/python3.12/dist-packages (from anyio>=3.1.0->jupyter-server==2.14.0->google-colab) (1.3.1)\n",
            "Requirement already satisfied: typing_extensions>=4.5 in /usr/local/lib/python3.12/dist-packages (from anyio>=3.1.0->jupyter-server==2.14.0->google-colab) (4.15.0)\n",
            "Requirement already satisfied: argon2-cffi-bindings in /usr/local/lib/python3.12/dist-packages (from argon2-cffi>=21.1->jupyter-server==2.14.0->google-colab) (25.1.0)\n",
            "Requirement already satisfied: parso<0.9.0,>=0.8.4 in /usr/local/lib/python3.12/dist-packages (from jedi>=0.16->ipython==7.34.0->google-colab) (0.8.5)\n",
            "Requirement already satisfied: MarkupSafe>=2.0 in /usr/local/lib/python3.12/dist-packages (from jinja2>=3.0.3->jupyter-server==2.14.0->google-colab) (3.0.3)\n",
            "Requirement already satisfied: platformdirs>=2.5 in /usr/local/lib/python3.12/dist-packages (from jupyter-core!=5.0.*,>=4.12->jupyter-server==2.14.0->google-colab) (4.4.0)\n",
            "Requirement already satisfied: jsonschema>=4.18.0 in /usr/local/lib/python3.12/dist-packages (from jsonschema[format-nongpl]>=4.18.0->jupyter-events>=0.9.0->jupyter-server==2.14.0->google-colab) (4.25.1)\n",
            "Requirement already satisfied: python-json-logger>=2.0.4 in /usr/local/lib/python3.12/dist-packages (from jupyter-events>=0.9.0->jupyter-server==2.14.0->google-colab) (3.3.0)\n",
            "Requirement already satisfied: pyyaml>=5.3 in /usr/local/lib/python3.12/dist-packages (from jupyter-events>=0.9.0->jupyter-server==2.14.0->google-colab) (6.0.3)\n",
            "Requirement already satisfied: referencing in /usr/local/lib/python3.12/dist-packages (from jupyter-events>=0.9.0->jupyter-server==2.14.0->google-colab) (0.36.2)\n",
            "Requirement already satisfied: rfc3339-validator in /usr/local/lib/python3.12/dist-packages (from jupyter-events>=0.9.0->jupyter-server==2.14.0->google-colab) (0.1.4)\n",
            "Requirement already satisfied: rfc3986-validator>=0.1.1 in /usr/local/lib/python3.12/dist-packages (from jupyter-events>=0.9.0->jupyter-server==2.14.0->google-colab) (0.1.1)\n",
            "Requirement already satisfied: beautifulsoup4 in /usr/local/lib/python3.12/dist-packages (from nbconvert>=6.4.4->jupyter-server==2.14.0->google-colab) (4.13.5)\n",
            "Requirement already satisfied: bleach!=5.0.0 in /usr/local/lib/python3.12/dist-packages (from bleach[css]!=5.0.0->nbconvert>=6.4.4->jupyter-server==2.14.0->google-colab) (6.2.0)\n",
            "Requirement already satisfied: defusedxml in /usr/local/lib/python3.12/dist-packages (from nbconvert>=6.4.4->jupyter-server==2.14.0->google-colab) (0.7.1)\n",
            "Requirement already satisfied: jupyterlab-pygments in /usr/local/lib/python3.12/dist-packages (from nbconvert>=6.4.4->jupyter-server==2.14.0->google-colab) (0.3.0)\n",
            "Requirement already satisfied: mistune<4,>=2.0.3 in /usr/local/lib/python3.12/dist-packages (from nbconvert>=6.4.4->jupyter-server==2.14.0->google-colab) (3.1.4)\n",
            "Requirement already satisfied: nbclient>=0.5.0 in /usr/local/lib/python3.12/dist-packages (from nbconvert>=6.4.4->jupyter-server==2.14.0->google-colab) (0.10.2)\n",
            "Requirement already satisfied: pandocfilters>=1.4.1 in /usr/local/lib/python3.12/dist-packages (from nbconvert>=6.4.4->jupyter-server==2.14.0->google-colab) (1.5.1)\n",
            "Requirement already satisfied: fastjsonschema>=2.15 in /usr/local/lib/python3.12/dist-packages (from nbformat>=5.3.0->jupyter-server==2.14.0->google-colab) (2.21.2)\n",
            "Requirement already satisfied: ptyprocess>=0.5 in /usr/local/lib/python3.12/dist-packages (from pexpect>4.3->ipython==7.34.0->google-colab) (0.7.0)\n",
            "Requirement already satisfied: wcwidth in /usr/local/lib/python3.12/dist-packages (from prompt-toolkit!=3.0.0,!=3.0.1,<3.1.0,>=2.0.0->ipython==7.34.0->google-colab) (0.2.14)\n",
            "Requirement already satisfied: oauthlib>=3.0.0 in /usr/local/lib/python3.12/dist-packages (from requests-oauthlib>=0.7.0->google-auth-oauthlib>=0.4.1->gspread) (3.3.1)\n",
            "Requirement already satisfied: webencodings in /usr/local/lib/python3.12/dist-packages (from bleach!=5.0.0->bleach[css]!=5.0.0->nbconvert>=6.4.4->jupyter-server==2.14.0->google-colab) (0.5.1)\n",
            "Requirement already satisfied: tinycss2<1.5,>=1.1.0 in /usr/local/lib/python3.12/dist-packages (from bleach[css]!=5.0.0->nbconvert>=6.4.4->jupyter-server==2.14.0->google-colab) (1.4.0)\n",
            "Requirement already satisfied: attrs>=22.2.0 in /usr/local/lib/python3.12/dist-packages (from jsonschema>=4.18.0->jsonschema[format-nongpl]>=4.18.0->jupyter-events>=0.9.0->jupyter-server==2.14.0->google-colab) (25.3.0)\n",
            "Requirement already satisfied: jsonschema-specifications>=2023.03.6 in /usr/local/lib/python3.12/dist-packages (from jsonschema>=4.18.0->jsonschema[format-nongpl]>=4.18.0->jupyter-events>=0.9.0->jupyter-server==2.14.0->google-colab) (2025.9.1)\n",
            "Requirement already satisfied: rpds-py>=0.7.1 in /usr/local/lib/python3.12/dist-packages (from jsonschema>=4.18.0->jsonschema[format-nongpl]>=4.18.0->jupyter-events>=0.9.0->jupyter-server==2.14.0->google-colab) (0.27.1)\n",
            "Requirement already satisfied: fqdn in /usr/local/lib/python3.12/dist-packages (from jsonschema[format-nongpl]>=4.18.0->jupyter-events>=0.9.0->jupyter-server==2.14.0->google-colab) (1.5.1)\n",
            "Requirement already satisfied: isoduration in /usr/local/lib/python3.12/dist-packages (from jsonschema[format-nongpl]>=4.18.0->jupyter-events>=0.9.0->jupyter-server==2.14.0->google-colab) (20.11.0)\n",
            "Requirement already satisfied: jsonpointer>1.13 in /usr/local/lib/python3.12/dist-packages (from jsonschema[format-nongpl]>=4.18.0->jupyter-events>=0.9.0->jupyter-server==2.14.0->google-colab) (3.0.0)\n",
            "Requirement already satisfied: rfc3987-syntax>=1.1.0 in /usr/local/lib/python3.12/dist-packages (from jsonschema[format-nongpl]>=4.18.0->jupyter-events>=0.9.0->jupyter-server==2.14.0->google-colab) (1.1.0)\n",
            "Requirement already satisfied: uri-template in /usr/local/lib/python3.12/dist-packages (from jsonschema[format-nongpl]>=4.18.0->jupyter-events>=0.9.0->jupyter-server==2.14.0->google-colab) (1.3.0)\n",
            "Requirement already satisfied: webcolors>=24.6.0 in /usr/local/lib/python3.12/dist-packages (from jsonschema[format-nongpl]>=4.18.0->jupyter-events>=0.9.0->jupyter-server==2.14.0->google-colab) (24.11.1)\n",
            "Requirement already satisfied: cffi>=1.0.1 in /usr/local/lib/python3.12/dist-packages (from argon2-cffi-bindings->argon2-cffi>=21.1->jupyter-server==2.14.0->google-colab) (2.0.0)\n",
            "Requirement already satisfied: soupsieve>1.2 in /usr/local/lib/python3.12/dist-packages (from beautifulsoup4->nbconvert>=6.4.4->jupyter-server==2.14.0->google-colab) (2.8)\n",
            "Requirement already satisfied: pycparser in /usr/local/lib/python3.12/dist-packages (from cffi>=1.0.1->argon2-cffi-bindings->argon2-cffi>=21.1->jupyter-server==2.14.0->google-colab) (2.23)\n",
            "Requirement already satisfied: lark>=1.2.2 in /usr/local/lib/python3.12/dist-packages (from rfc3987-syntax>=1.1.0->jsonschema[format-nongpl]>=4.18.0->jupyter-events>=0.9.0->jupyter-server==2.14.0->google-colab) (1.3.0)\n",
            "Requirement already satisfied: arrow>=0.15.0 in /usr/local/lib/python3.12/dist-packages (from isoduration->jsonschema[format-nongpl]>=4.18.0->jupyter-events>=0.9.0->jupyter-server==2.14.0->google-colab) (1.3.0)\n",
            "Requirement already satisfied: types-python-dateutil>=2.8.10 in /usr/local/lib/python3.12/dist-packages (from arrow>=0.15.0->isoduration->jsonschema[format-nongpl]>=4.18.0->jupyter-events>=0.9.0->jupyter-server==2.14.0->google-colab) (2.9.0.20250822)\n",
            "Authenticating Google Colab...\n",
            "Authentication successful!\n"
          ]
        }
      ]
    },
    {
      "cell_type": "code",
      "source": [
        "# --- Configuration ---\n",
        "# REPLACE THESE WITH YOUR ACTUAL VALUES\n",
        "GOOGLE_MAPS_API_KEY = \"\" # ⬅️ REPLACE\n",
        "SEARCH_QUERY = \"\"\n",
        "\n",
        "# Google Sheet Details\n",
        "# SPREADSHEET_ID: The long string in the middle of your sheet URL.\n",
        "# WORKSHEET_NAME: The exact name of the tab (e.g., 'Sheet1', 'Data'). Case-sensitive!\n",
        "SPREADSHEET_ID = \"\" # ⬅️ CHECK THIS\n",
        "WORKSHEET_NAME = \"Sheet1\" # ⬅️ CHECK THIS (Must match your tab name EXACTLY)\n",
        "\n",
        "print(\"Configuration loaded.\")"
      ],
      "metadata": {
        "colab": {
          "base_uri": "https://localhost:8080/"
        },
        "id": "PpYP4JRcJNRT",
        "outputId": "ceeba4b4-79a0-44c9-833a-8b6ab5183907"
      },
      "execution_count": 2,
      "outputs": [
        {
          "output_type": "stream",
          "name": "stdout",
          "text": [
            "Configuration loaded.\n"
          ]
        }
      ]
    },
    {
      "cell_type": "code",
      "source": [
        "# --- Function to Write Data to Google Sheets ---\n",
        "def write_to_google_sheets(places_data, spreadsheet_id, worksheet_name):\n",
        "    if not places_data:\n",
        "        print(\"Sheet Write Error: Input data list is empty. No data to write.\")\n",
        "        return\n",
        "\n",
        "    try:\n",
        "        # 1. Open Spreadsheet and Worksheet\n",
        "        spreadsheet = gc.open_by_key(spreadsheet_id)\n",
        "        worksheet = spreadsheet.worksheet(worksheet_name)\n",
        "\n",
        "        # 2. Data Transformation (from list of dicts to list of lists)\n",
        "        header = list(places_data[0].keys())\n",
        "\n",
        "        # Build rows of data, ensuring all rows have the same keys as the header\n",
        "        data_rows = [[place.get(key, '') for key in header] for place in places_data]\n",
        "        data_to_write = [header] + data_rows\n",
        "\n",
        "        # 3. Write Data to Sheet\n",
        "\n",
        "        # Clear the entire sheet content before writing\n",
        "        print(f\"Clearing worksheet '{worksheet_name}'...\")\n",
        "        worksheet.clear()\n",
        "\n",
        "        # Add a small delay to avoid rate limit issues\n",
        "        time.sleep(1)\n",
        "\n",
        "        # Determine the range to write (e.g., A1:Z100)\n",
        "        num_rows = len(data_to_write)\n",
        "        num_cols = len(header)\n",
        "\n",
        "        # Helper to get the end column letter (robust for many columns)\n",
        "        end_col_letter = gspread.utils.rowcol_to_a1(1, num_cols).split('1')[0]\n",
        "        range_to_write = f'A1:{end_col_letter}{num_rows}'\n",
        "\n",
        "        # Batch Update\n",
        "        print(f\"Attempting to write {num_rows} rows to range: {range_to_write}\")\n",
        "        worksheet.update(range_to_write, data_to_write, value_input_option='USER_ENTERED')\n",
        "\n",
        "        print(f\"SUCCESS 🎉: Data written to '{worksheet_name}'. Check your Google Sheet!\")\n",
        "\n",
        "    except gspread.exceptions.SpreadsheetNotFound:\n",
        "        print(f\"ERROR: Spreadsheet with ID '{spreadsheet_id}' not found. Check ID and sharing permissions.\")\n",
        "    except gspread.exceptions.WorksheetNotFound:\n",
        "        print(f\"ERROR: Worksheet named '{worksheet_name}' not found. Check the tab name (case-sensitive!) or manually create the tab.\")\n",
        "    except Exception as e:\n",
        "        print(f\"A general error occurred during sheet writing: {e}\")"
      ],
      "metadata": {
        "id": "eGpTML1qI707"
      },
      "execution_count": 3,
      "outputs": []
    },
    {
      "cell_type": "code",
      "source": [
        "# --- Execution Cell ---\n",
        "print(f\"Starting search for: {SEARCH_QUERY}\")\n",
        "\n",
        "# 1. Fetch Data\n",
        "places_data = fetch_places_data(SEARCH_QUERY, GOOGLE_MAPS_API_KEY)\n",
        "\n",
        "# 2. Write Data\n",
        "if places_data:\n",
        "    write_to_google_sheets(places_data, SPREADSHEET_ID, WORKSHEET_NAME)\n",
        "else:\n",
        "    print(\"No data was retrieved from the Places API. Sheet remains untouched.\")"
      ],
      "metadata": {
        "colab": {
          "base_uri": "https://localhost:8080/",
          "height": 228
        },
        "id": "yRKwec9CJ_U8",
        "outputId": "3a3b974a-26a2-43a0-d141-230e3d1b776f"
      },
      "execution_count": 4,
      "outputs": [
        {
          "output_type": "stream",
          "name": "stdout",
          "text": [
            "Starting search for: logistics companies in Saudi Arabia\n"
          ]
        },
        {
          "output_type": "error",
          "ename": "NameError",
          "evalue": "name 'fetch_places_data' is not defined",
          "traceback": [
            "\u001b[0;31m---------------------------------------------------------------------------\u001b[0m",
            "\u001b[0;31mNameError\u001b[0m                                 Traceback (most recent call last)",
            "\u001b[0;32m/tmp/ipython-input-1587512323.py\u001b[0m in \u001b[0;36m<cell line: 0>\u001b[0;34m()\u001b[0m\n\u001b[1;32m      3\u001b[0m \u001b[0;34m\u001b[0m\u001b[0m\n\u001b[1;32m      4\u001b[0m \u001b[0;31m# 1. Fetch Data\u001b[0m\u001b[0;34m\u001b[0m\u001b[0;34m\u001b[0m\u001b[0m\n\u001b[0;32m----> 5\u001b[0;31m \u001b[0mplaces_data\u001b[0m \u001b[0;34m=\u001b[0m \u001b[0mfetch_places_data\u001b[0m\u001b[0;34m(\u001b[0m\u001b[0mSEARCH_QUERY\u001b[0m\u001b[0;34m,\u001b[0m \u001b[0mGOOGLE_MAPS_API_KEY\u001b[0m\u001b[0;34m)\u001b[0m\u001b[0;34m\u001b[0m\u001b[0;34m\u001b[0m\u001b[0m\n\u001b[0m\u001b[1;32m      6\u001b[0m \u001b[0;34m\u001b[0m\u001b[0m\n\u001b[1;32m      7\u001b[0m \u001b[0;31m# 2. Write Data\u001b[0m\u001b[0;34m\u001b[0m\u001b[0;34m\u001b[0m\u001b[0m\n",
            "\u001b[0;31mNameError\u001b[0m: name 'fetch_places_data' is not defined"
          ]
        }
      ]
    },
    {
      "cell_type": "code",
      "metadata": {
        "id": "67493bf9"
      },
      "source": [
        "# --- Function to Fetch Data from Google Places API ---\n",
        "def fetch_places_data(query, api_key):\n",
        "    base_url = \"https://maps.googleapis.com/maps/api/place/textsearch/json\"\n",
        "\n",
        "    # Parameters for the API request\n",
        "    params = {\n",
        "        \"query\": query,\n",
        "        \"key\": api_key\n",
        "    }\n",
        "\n",
        "    all_results = []\n",
        "\n",
        "    # Loop to handle pagination (up to 3 pages)\n",
        "    for _ in range(3):\n",
        "        response = requests.get(base_url, params=params)\n",
        "        data = response.json()\n",
        "\n",
        "        if data.get(\"status\") != \"OK\":\n",
        "            print(f\"API Error: {data.get('status')}\")\n",
        "            break\n",
        "\n",
        "        all_results.extend(data.get(\"results\", []))\n",
        "\n",
        "        # Check for the 'next_page_token' to get the next 20 results\n",
        "        next_page_token = data.get(\"next_page_token\")\n",
        "        if next_page_token:\n",
        "            # Must wait for a short period before using the next_page_token\n",
        "            time.sleep(2)\n",
        "            params[\"pagetoken\"] = next_page_token\n",
        "            # Only delete 'query' if 'pagetoken' is present\n",
        "            if \"query\" in params:\n",
        "                del params[\"query\"]\n",
        "        else:\n",
        "            break # No more pages\n",
        "\n",
        "    return all_results"
      ],
      "execution_count": 5,
      "outputs": []
    },
    {
      "cell_type": "code",
      "source": [],
      "metadata": {
        "id": "nbuwZT8uLzn6"
      },
      "execution_count": null,
      "outputs": []
    },
    {
      "cell_type": "code",
      "source": [
        "!pip install python-dotenv"
      ],
      "metadata": {
        "colab": {
          "base_uri": "https://localhost:8080/"
        },
        "id": "OLKUxMHWLy2a",
        "outputId": "abef3d8a-6839-4fb2-e1ee-520fa7a0fbc3"
      },
      "execution_count": 7,
      "outputs": [
        {
          "output_type": "stream",
          "name": "stdout",
          "text": [
            "Requirement already satisfied: python-dotenv in /usr/local/lib/python3.12/dist-packages (1.1.1)\n"
          ]
        }
      ]
    }
  ]
}
